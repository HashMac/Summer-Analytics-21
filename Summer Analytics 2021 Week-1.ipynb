{
 "cells": [
  {
   "cell_type": "markdown",
   "metadata": {},
   "source": [
    "# Introduction to Python"
   ]
  },
  {
   "cell_type": "markdown",
   "metadata": {},
   "source": [
    "## Textual Data"
   ]
  },
  {
   "cell_type": "code",
   "execution_count": 5,
   "metadata": {},
   "outputs": [
    {
     "name": "stdout",
     "output_type": "stream",
     "text": [
      "Hello World\n"
     ]
    }
   ],
   "source": [
    "#To print result in Python\n",
    "message = 'Hello World'\n",
    "print(message)"
   ]
  },
  {
   "cell_type": "code",
   "execution_count": 6,
   "metadata": {},
   "outputs": [
    {
     "name": "stdout",
     "output_type": "stream",
     "text": [
      "11\n"
     ]
    }
   ],
   "source": [
    "#To know the length of the string\n",
    "print(len(message))"
   ]
  },
  {
   "cell_type": "code",
   "execution_count": 3,
   "metadata": {},
   "outputs": [
    {
     "name": "stdout",
     "output_type": "stream",
     "text": [
      "H\n"
     ]
    }
   ],
   "source": [
    "#Indexing starts with 0\n",
    "print(message[0])"
   ]
  },
  {
   "cell_type": "code",
   "execution_count": 10,
   "metadata": {},
   "outputs": [
    {
     "name": "stdout",
     "output_type": "stream",
     "text": [
      "Hello\n",
      "Hello\n",
      "World\n"
     ]
    }
   ],
   "source": [
    "#Indexing to print entire word (where 0 is inclusive while 5 is exclusive)\n",
    "print(message[0:5])\n",
    "print(message[:5])\n",
    "print(message[6:])"
   ]
  },
  {
   "cell_type": "code",
   "execution_count": 11,
   "metadata": {},
   "outputs": [
    {
     "name": "stdout",
     "output_type": "stream",
     "text": [
      "hello world\n"
     ]
    }
   ],
   "source": [
    "#To print message in lowercase\n",
    "print(message.lower())"
   ]
  },
  {
   "cell_type": "code",
   "execution_count": 13,
   "metadata": {},
   "outputs": [
    {
     "name": "stdout",
     "output_type": "stream",
     "text": [
      "HELLO WORLD\n"
     ]
    }
   ],
   "source": [
    "#To print message in uppercase\n",
    "print(message.upper())"
   ]
  },
  {
   "cell_type": "code",
   "execution_count": 14,
   "metadata": {},
   "outputs": [
    {
     "name": "stdout",
     "output_type": "stream",
     "text": [
      "3\n"
     ]
    }
   ],
   "source": [
    "#To count certain number of letters\n",
    "print(message.count('l'))"
   ]
  },
  {
   "cell_type": "code",
   "execution_count": 15,
   "metadata": {},
   "outputs": [
    {
     "name": "stdout",
     "output_type": "stream",
     "text": [
      "6\n"
     ]
    }
   ],
   "source": [
    "#To find (results index of the word/letter)\n",
    "print(message.find('World'))"
   ]
  },
  {
   "cell_type": "code",
   "execution_count": 19,
   "metadata": {},
   "outputs": [
    {
     "name": "stdout",
     "output_type": "stream",
     "text": [
      "Hello Universe\n"
     ]
    }
   ],
   "source": [
    "#To replace anything\n",
    "\n",
    "message = message.replace('World','Universe') #(Word/letter to be replaced, New word)\n",
    "print(message)"
   ]
  },
  {
   "cell_type": "code",
   "execution_count": 23,
   "metadata": {},
   "outputs": [
    {
     "name": "stdout",
     "output_type": "stream",
     "text": [
      "Hello! Harshit\n"
     ]
    }
   ],
   "source": [
    "#\n",
    "greeting = 'Hello'\n",
    "name = 'Harshit'\n",
    "message = greeting + '! ' + name\n",
    "print(message)"
   ]
  },
  {
   "cell_type": "code",
   "execution_count": 28,
   "metadata": {},
   "outputs": [
    {
     "name": "stdout",
     "output_type": "stream",
     "text": [
      "Hello! Harshit. Welcome\n"
     ]
    }
   ],
   "source": [
    "#String Formatting\n",
    "greeting = 'Hello'\n",
    "name = 'Harshit'\n",
    "message = '{}! {}. Welcome'.format(greeting, name)\n",
    "print(message)"
   ]
  },
  {
   "cell_type": "code",
   "execution_count": 32,
   "metadata": {},
   "outputs": [
    {
     "name": "stdout",
     "output_type": "stream",
     "text": [
      "hello! HARSHIT. Welcome\n"
     ]
    }
   ],
   "source": [
    "#Sting Formatting with f-strings (in Python-3 only)\n",
    "greeting = 'Hello'\n",
    "name = 'Harshit'\n",
    "message = f'{greeting.lower()}! {name.upper()}. Welcome'\n",
    "print(message)"
   ]
  },
  {
   "cell_type": "code",
   "execution_count": 33,
   "metadata": {},
   "outputs": [
    {
     "name": "stdout",
     "output_type": "stream",
     "text": [
      "['__add__', '__class__', '__contains__', '__delattr__', '__dir__', '__doc__', '__eq__', '__format__', '__ge__', '__getattribute__', '__getitem__', '__getnewargs__', '__gt__', '__hash__', '__init__', '__init_subclass__', '__iter__', '__le__', '__len__', '__lt__', '__mod__', '__mul__', '__ne__', '__new__', '__reduce__', '__reduce_ex__', '__repr__', '__rmod__', '__rmul__', '__setattr__', '__sizeof__', '__str__', '__subclasshook__', 'capitalize', 'casefold', 'center', 'count', 'encode', 'endswith', 'expandtabs', 'find', 'format', 'format_map', 'index', 'isalnum', 'isalpha', 'isascii', 'isdecimal', 'isdigit', 'isidentifier', 'islower', 'isnumeric', 'isprintable', 'isspace', 'istitle', 'isupper', 'join', 'ljust', 'lower', 'lstrip', 'maketrans', 'partition', 'replace', 'rfind', 'rindex', 'rjust', 'rpartition', 'rsplit', 'rstrip', 'split', 'splitlines', 'startswith', 'strip', 'swapcase', 'title', 'translate', 'upper', 'zfill']\n"
     ]
    }
   ],
   "source": [
    "#  To find attributes and functions available wrt to a variable\n",
    "greeting = 'Hello'\n",
    "name = 'Harshit'\n",
    "\n",
    "print(dir(name))"
   ]
  },
  {
   "cell_type": "code",
   "execution_count": 36,
   "metadata": {},
   "outputs": [
    {
     "name": "stdout",
     "output_type": "stream",
     "text": [
      "Help on method_descriptor:\n",
      "\n",
      "strip(self, chars=None, /)\n",
      "    Return a copy of the string with leading and trailing whitespace removed.\n",
      "    \n",
      "    If chars is given and not None, remove characters in chars instead.\n",
      "\n",
      "None\n"
     ]
    }
   ],
   "source": [
    "#To find the help on available strings attributes and functions\n",
    "\n",
    "print(help(str.strip))"
   ]
  },
  {
   "cell_type": "markdown",
   "metadata": {},
   "source": [
    "## Numeric Data"
   ]
  },
  {
   "cell_type": "code",
   "execution_count": 39,
   "metadata": {},
   "outputs": [
    {
     "name": "stdout",
     "output_type": "stream",
     "text": [
      "<class 'int'>\n"
     ]
    }
   ],
   "source": [
    "#To find the class\n",
    "num = 3\n",
    "print(type(num))"
   ]
  },
  {
   "cell_type": "code",
   "execution_count": 38,
   "metadata": {},
   "outputs": [
    {
     "name": "stdout",
     "output_type": "stream",
     "text": [
      "<class 'float'>\n"
     ]
    }
   ],
   "source": [
    "num = 3.14\n",
    "print(type(num))"
   ]
  },
  {
   "cell_type": "code",
   "execution_count": 41,
   "metadata": {},
   "outputs": [
    {
     "name": "stdout",
     "output_type": "stream",
     "text": [
      "5\n",
      "1\n",
      "6\n",
      "1.5\n",
      "1\n",
      "9\n",
      "1\n"
     ]
    }
   ],
   "source": [
    "#Arithmetic Operators:\n",
    "#Addition:3+2\n",
    "#Subtraction: 3-2\n",
    "#Multiplication: 3*2\n",
    "#Division: 3/2\n",
    "#Floor Division: 3//2\n",
    "#Exponent: 3**2\n",
    "#Modulus: 3%2 (Useful to check odd or even)\n",
    "\n",
    "print(3+2)\n",
    "print(3-2)\n",
    "print(3*2)\n",
    "print(3/2)\n",
    "print(3//2)\n",
    "print(3**2)\n",
    "print(3%2)"
   ]
  },
  {
   "cell_type": "code",
   "execution_count": 42,
   "metadata": {},
   "outputs": [
    {
     "name": "stdout",
     "output_type": "stream",
     "text": [
      "2\n"
     ]
    }
   ],
   "source": [
    "#To make changes in variable with numerical data\n",
    "num = 1 \n",
    "num += 1\n",
    "print(num)"
   ]
  },
  {
   "cell_type": "code",
   "execution_count": 44,
   "metadata": {},
   "outputs": [
    {
     "name": "stdout",
     "output_type": "stream",
     "text": [
      "3\n"
     ]
    }
   ],
   "source": [
    "#To make absolute value\n",
    "print(abs(-3))"
   ]
  },
  {
   "cell_type": "code",
   "execution_count": 47,
   "metadata": {},
   "outputs": [
    {
     "name": "stdout",
     "output_type": "stream",
     "text": [
      "3.8\n"
     ]
    }
   ],
   "source": [
    "#To round off\n",
    "print(round(3.75,1))"
   ]
  },
  {
   "cell_type": "code",
   "execution_count": 51,
   "metadata": {},
   "outputs": [
    {
     "name": "stdout",
     "output_type": "stream",
     "text": [
      "False\n",
      "True\n",
      "False\n",
      "True\n",
      "False\n",
      "True\n"
     ]
    }
   ],
   "source": [
    "#Comparison Operators\n",
    "#Equal: 3 == 2\n",
    "#Not Equal: 3 != 2\n",
    "#Greater Than: 3 > 2\n",
    "#Less Than: 3 < 2\n",
    "#Greater than or equal: 3 >= 2\n",
    "#Less or equal: 3 <= 2\n",
    "\n",
    "num_1 = 2\n",
    "num_2 = 3\n",
    "\n",
    "print(num_1 == num_2)\n",
    "print(num_1 != num_2)\n",
    "print(num_1 > num_2)\n",
    "print(num_1 < num_2)\n",
    "print(num_1 >= num_2)\n",
    "print(num_1 <= num_2)"
   ]
  },
  {
   "cell_type": "code",
   "execution_count": 53,
   "metadata": {},
   "outputs": [
    {
     "name": "stdout",
     "output_type": "stream",
     "text": [
      "300\n"
     ]
    }
   ],
   "source": [
    "#Cast from str to int\n",
    "num_1 = '100'\n",
    "num_2 = '200'\n",
    "\n",
    "num_1 = int(num_1)\n",
    "num_2 = int(num_2)\n",
    "print(num_1 + num_2)"
   ]
  },
  {
   "cell_type": "markdown",
   "metadata": {},
   "source": [
    "## Lists, Tuples and Sets"
   ]
  },
  {
   "cell_type": "code",
   "execution_count": 54,
   "metadata": {},
   "outputs": [
    {
     "name": "stdout",
     "output_type": "stream",
     "text": [
      "['History', 'Maths', 'Physics', 'Comp Sci']\n"
     ]
    }
   ],
   "source": [
    "#Lists allows to work on lists of values\n",
    "\n",
    "courses = ['History','Maths','Physics','Comp Sci']\n",
    "print(courses)"
   ]
  },
  {
   "cell_type": "code",
   "execution_count": 55,
   "metadata": {},
   "outputs": [
    {
     "name": "stdout",
     "output_type": "stream",
     "text": [
      "4\n"
     ]
    }
   ],
   "source": [
    "print(len(courses))"
   ]
  },
  {
   "cell_type": "code",
   "execution_count": 60,
   "metadata": {},
   "outputs": [
    {
     "name": "stdout",
     "output_type": "stream",
     "text": [
      "Comp Sci\n",
      "Comp Sci\n"
     ]
    }
   ],
   "source": [
    "#To index the lists\n",
    "print(courses[3])\n",
    "print(courses[-1])"
   ]
  },
  {
   "cell_type": "code",
   "execution_count": 65,
   "metadata": {},
   "outputs": [
    {
     "name": "stdout",
     "output_type": "stream",
     "text": [
      "['History', 'Maths', 'Physics']\n"
     ]
    }
   ],
   "source": [
    "print(courses[:3])"
   ]
  },
  {
   "cell_type": "code",
   "execution_count": 69,
   "metadata": {},
   "outputs": [
    {
     "name": "stdout",
     "output_type": "stream",
     "text": [
      "['History', 'Maths', 'Physics', 'Comp Sci', 'Art']\n"
     ]
    }
   ],
   "source": [
    "#To add another item in lists using APPEND\n",
    "courses = ['History','Maths','Physics','Comp Sci']\n",
    "courses.append('Art')\n",
    "print(courses)"
   ]
  },
  {
   "cell_type": "code",
   "execution_count": 70,
   "metadata": {},
   "outputs": [
    {
     "name": "stdout",
     "output_type": "stream",
     "text": [
      "['History', 'Maths', 'Physics', 'Art', 'Comp Sci']\n"
     ]
    }
   ],
   "source": [
    "#To add item at specific location in lists using INSERT\n",
    "courses = ['History','Maths','Physics','Comp Sci']\n",
    "courses.insert(3, 'Art')\n",
    "print(courses)"
   ]
  },
  {
   "cell_type": "code",
   "execution_count": 71,
   "metadata": {},
   "outputs": [
    {
     "name": "stdout",
     "output_type": "stream",
     "text": [
      "['History', 'Maths', 'Physics', 'Comp Sci', 'Art', 'Education']\n"
     ]
    }
   ],
   "source": [
    "#To add multiple items in lists using EXTEND\n",
    "courses = ['History','Maths','Physics','Comp Sci']\n",
    "courses_2 = ['Art','Education']\n",
    "courses.extend(courses_2)\n",
    "print(courses)"
   ]
  },
  {
   "cell_type": "code",
   "execution_count": 73,
   "metadata": {},
   "outputs": [
    {
     "name": "stdout",
     "output_type": "stream",
     "text": [
      "['History', 'Physics', 'Comp Sci']\n"
     ]
    }
   ],
   "source": [
    "#To remove items from lists using REMOVE\n",
    "courses = ['History','Maths','Physics','Comp Sci']\n",
    "courses.remove('Maths')\n",
    "print(courses)"
   ]
  },
  {
   "cell_type": "code",
   "execution_count": 74,
   "metadata": {},
   "outputs": [
    {
     "name": "stdout",
     "output_type": "stream",
     "text": [
      "['History', 'Maths', 'Physics']\n"
     ]
    }
   ],
   "source": [
    "#To remove items using POP (removes last item in list)\n",
    "courses = ['History','Maths','Physics','Comp Sci']\n",
    "courses.pop()\n",
    "print(courses)"
   ]
  },
  {
   "cell_type": "code",
   "execution_count": 76,
   "metadata": {},
   "outputs": [
    {
     "name": "stdout",
     "output_type": "stream",
     "text": [
      "['Comp Sci', 'Physics', 'Maths', 'History']\n"
     ]
    }
   ],
   "source": [
    "#To reverse the order of list\n",
    "courses = ['History','Maths','Physics','Comp Sci']\n",
    "courses.reverse()\n",
    "print(courses)"
   ]
  },
  {
   "cell_type": "code",
   "execution_count": 83,
   "metadata": {},
   "outputs": [
    {
     "name": "stdout",
     "output_type": "stream",
     "text": [
      "['Comp Sci', 'History', 'Maths', 'Physics']\n"
     ]
    }
   ],
   "source": [
    "#To sort the list\n",
    "courses = ['History','Maths','Physics','Comp Sci']\n",
    "courses.sort()\n",
    "print(courses)"
   ]
  },
  {
   "cell_type": "code",
   "execution_count": 85,
   "metadata": {},
   "outputs": [
    {
     "name": "stdout",
     "output_type": "stream",
     "text": [
      "['Comp Sci', 'History', 'Maths', 'Physics']\n",
      "2\n"
     ]
    }
   ],
   "source": [
    "#To sort the numbers\n",
    "courses = ['History','Maths','Physics','Comp Sci']\n",
    "nums = [1,5,2,3,4]\n",
    "courses.sort()\n",
    "nums.sort()\n",
    "print(courses)\n",
    "print(num)"
   ]
  },
  {
   "cell_type": "code",
   "execution_count": 88,
   "metadata": {},
   "outputs": [
    {
     "name": "stdout",
     "output_type": "stream",
     "text": [
      "['Physics', 'Maths', 'History', 'Comp Sci']\n",
      "2\n"
     ]
    }
   ],
   "source": [
    "#To sort in descending order\n",
    "courses = ['History','Maths','Physics','Comp Sci']\n",
    "nums = [1, 5, 2, 3, 4]\n",
    "courses.sort(reverse=True)\n",
    "nums.sort(reverse=True)\n",
    "print(courses)\n",
    "print(num)"
   ]
  },
  {
   "cell_type": "code",
   "execution_count": 90,
   "metadata": {},
   "outputs": [
    {
     "name": "stdout",
     "output_type": "stream",
     "text": [
      "1\n",
      "5\n",
      "15\n"
     ]
    }
   ],
   "source": [
    "#To get min, max, sum values\n",
    "nums = [1, 5, 2, 4, 3]\n",
    "print(min(nums))\n",
    "print(max(nums))\n",
    "print(sum(nums))"
   ]
  },
  {
   "cell_type": "code",
   "execution_count": 93,
   "metadata": {},
   "outputs": [
    {
     "name": "stdout",
     "output_type": "stream",
     "text": [
      "3\n"
     ]
    }
   ],
   "source": [
    "#To find the index of vertain value in lists\n",
    "courses = ['History','Maths','Physics','Comp Sci']\n",
    "print(courses.index('Comp Sci'))"
   ]
  },
  {
   "cell_type": "code",
   "execution_count": 94,
   "metadata": {},
   "outputs": [
    {
     "name": "stdout",
     "output_type": "stream",
     "text": [
      "True\n"
     ]
    }
   ],
   "source": [
    "#To find the index of vertain value in lists\n",
    "courses = ['History','Maths','Physics','Comp Sci']\n",
    "print('Comp Sci' in courses)"
   ]
  },
  {
   "cell_type": "code",
   "execution_count": 95,
   "metadata": {},
   "outputs": [
    {
     "name": "stdout",
     "output_type": "stream",
     "text": [
      "History\n",
      "Maths\n",
      "Physics\n",
      "Comp Sci\n"
     ]
    }
   ],
   "source": [
    "#To loop through values in list\n",
    "courses = ['History','Maths','Physics','Comp Sci']\n",
    "for item in courses:\n",
    "    print(item)"
   ]
  },
  {
   "cell_type": "code",
   "execution_count": 97,
   "metadata": {},
   "outputs": [
    {
     "name": "stdout",
     "output_type": "stream",
     "text": [
      "1 History\n",
      "2 Maths\n",
      "3 Physics\n",
      "4 Comp Sci\n"
     ]
    }
   ],
   "source": [
    "#To loop through values and index in list\n",
    "courses = ['History','Maths','Physics','Comp Sci']\n",
    "\n",
    "for index, course in enumerate(courses,start = 1):\n",
    "    print(index, course)"
   ]
  },
  {
   "cell_type": "code",
   "execution_count": 98,
   "metadata": {},
   "outputs": [
    {
     "name": "stdout",
     "output_type": "stream",
     "text": [
      "History, Maths, Physics, Comp Sci\n"
     ]
    }
   ],
   "source": [
    "#To convert str to csv\n",
    "courses = ['History','Maths','Physics','Comp Sci']\n",
    "course_str = ', '.join(courses)\n",
    "print(course_str)"
   ]
  },
  {
   "cell_type": "code",
   "execution_count": 99,
   "metadata": {},
   "outputs": [
    {
     "name": "stdout",
     "output_type": "stream",
     "text": [
      "History, Maths, Physics, Comp Sci\n",
      "['History', 'Maths', 'Physics', 'Comp Sci']\n"
     ]
    }
   ],
   "source": [
    "#To converr csv to str\n",
    "courses = ['History','Maths','Physics','Comp Sci']\n",
    "course_str = ', '.join(courses)\n",
    "new_list = course_str.split(', ')\n",
    "print(course_str)\n",
    "print(new_list)"
   ]
  },
  {
   "cell_type": "code",
   "execution_count": 100,
   "metadata": {},
   "outputs": [
    {
     "name": "stdout",
     "output_type": "stream",
     "text": [
      "['History', 'Maths', 'Physics', 'Comp Sci']\n",
      "['History', 'Maths', 'Physics', 'Comp Sci']\n",
      "['Art', 'Maths', 'Physics', 'Comp Sci']\n",
      "['Art', 'Maths', 'Physics', 'Comp Sci']\n"
     ]
    }
   ],
   "source": [
    "#Mutable\n",
    "list_1 = ['History','Maths','Physics','Comp Sci']\n",
    "list_2 = list_1\n",
    "print(list_1)\n",
    "print(list_2)\n",
    "\n",
    "list_1[0] = 'Art'\n",
    "print(list_1)\n",
    "print(list_2)"
   ]
  },
  {
   "cell_type": "code",
   "execution_count": 101,
   "metadata": {},
   "outputs": [
    {
     "name": "stdout",
     "output_type": "stream",
     "text": [
      "('History', 'Maths', 'Physics', 'Comp Sci')\n",
      "('History', 'Maths', 'Physics', 'Comp Sci')\n"
     ]
    }
   ],
   "source": [
    "#Immutable\n",
    "\n",
    "tuple_1 = ('History','Maths','Physics','Comp Sci')\n",
    "tuple_2 = tuple_1\n",
    "\n",
    "print(tuple_1)\n",
    "print(tuple_2)"
   ]
  },
  {
   "cell_type": "code",
   "execution_count": 118,
   "metadata": {},
   "outputs": [
    {
     "name": "stdout",
     "output_type": "stream",
     "text": [
      "{'Maths', 'Comp Sci', 'History', 'Physics'}\n"
     ]
    }
   ],
   "source": [
    "#Sets: Values that are unordered and no duplicate\n",
    "cs_courses = {'History','Maths','Physics','Comp Sci'}\n",
    "print(cs_courses)"
   ]
  },
  {
   "cell_type": "code",
   "execution_count": 119,
   "metadata": {},
   "outputs": [
    {
     "name": "stdout",
     "output_type": "stream",
     "text": [
      "True\n"
     ]
    }
   ],
   "source": [
    "#Membership test\n",
    "cs_courses = {'History','Maths','Physics','Comp Sci'}\n",
    "print('Maths' in cs_courses)"
   ]
  },
  {
   "cell_type": "code",
   "execution_count": 122,
   "metadata": {},
   "outputs": [
    {
     "name": "stdout",
     "output_type": "stream",
     "text": [
      "{'Maths', 'History'}\n",
      "{'Art', 'Comp Sci', 'History', 'Design', 'Maths', 'Physics'}\n",
      "{'Comp Sci', 'Physics'}\n"
     ]
    }
   ],
   "source": [
    "#Sets Operations\n",
    "cs_courses = {'History','Maths','Physics','Comp Sci'}\n",
    "art_courses = {'History','Maths','Art','Design'}\n",
    "print(cs_courses.intersection(art_courses))\n",
    "print(cs_courses.union(art_courses))\n",
    "print(cs_courses.difference(art_courses))"
   ]
  },
  {
   "cell_type": "code",
   "execution_count": null,
   "metadata": {},
   "outputs": [],
   "source": [
    "#Empty lists\n",
    "empty_list = [] #or\n",
    "empty_list = list()\n",
    "\n",
    "#Empty Tuples\n",
    "empty_tuple = () #or\n",
    "empty_tuple = tuple()\n",
    "\n",
    "#Empty Sets\n",
    "empty_set = {} #This is wrong, It's a dictionary\n",
    "empty_set = set()"
   ]
  },
  {
   "cell_type": "markdown",
   "metadata": {},
   "source": [
    "## Dictionary\n",
    "Key-Value pairing"
   ]
  },
  {
   "cell_type": "code",
   "execution_count": 125,
   "metadata": {},
   "outputs": [
    {
     "name": "stdout",
     "output_type": "stream",
     "text": [
      "{'name': 'John', 'age': 25, 'courses': ['Math', 'CompSci']}\n",
      "John\n",
      "['Math', 'CompSci']\n"
     ]
    }
   ],
   "source": [
    "#To define key and value in dictionary named \"student\"\n",
    "student = {'name': 'John', 'age': 25, 'courses': ['Math','CompSci']}\n",
    "print(student)\n",
    "print(student['name'])\n",
    "print(student['courses'])"
   ]
  },
  {
   "cell_type": "code",
   "execution_count": 127,
   "metadata": {},
   "outputs": [
    {
     "name": "stdout",
     "output_type": "stream",
     "text": [
      "Not Found\n"
     ]
    }
   ],
   "source": [
    "#When error value returned in Dict, use GET function\n",
    "student = {'name': 'John', 'age': 25, 'courses': ['Math','CompSci']}\n",
    "print(student.get('phone','Not Found'))"
   ]
  },
  {
   "cell_type": "code",
   "execution_count": 130,
   "metadata": {},
   "outputs": [
    {
     "name": "stdout",
     "output_type": "stream",
     "text": [
      "{'name': 'Jane', 'age': 26, 'courses': ['Math', 'CompSci'], 'phone': 5555555555}\n"
     ]
    }
   ],
   "source": [
    "#To update the dict\n",
    "student = {'name': 'John', 'age': 25, 'courses': ['Math','CompSci']}\n",
    "student.update({'name': 'Jane','age': 26,'phone': 5555555555})\n",
    "print(student)"
   ]
  },
  {
   "cell_type": "code",
   "execution_count": 136,
   "metadata": {},
   "outputs": [
    {
     "name": "stdout",
     "output_type": "stream",
     "text": [
      "{'name': 'John', 'courses': ['Math', 'CompSci']}\n"
     ]
    }
   ],
   "source": [
    "#To delete item in Dict\n",
    "student = {'name': 'John', 'age': 25, 'courses': ['Math','CompSci']}\n",
    "del student['age']\n",
    "print(student)"
   ]
  },
  {
   "cell_type": "code",
   "execution_count": 138,
   "metadata": {},
   "outputs": [
    {
     "name": "stdout",
     "output_type": "stream",
     "text": [
      "25\n"
     ]
    }
   ],
   "source": [
    "#OR\n",
    "student = {'name': 'John', 'age': 25, 'courses': ['Math','CompSci']}\n",
    "age = student.pop('age')\n",
    "print(age)"
   ]
  },
  {
   "cell_type": "code",
   "execution_count": 139,
   "metadata": {},
   "outputs": [
    {
     "name": "stdout",
     "output_type": "stream",
     "text": [
      "3\n"
     ]
    }
   ],
   "source": [
    "#To loop key and values in Dict\n",
    "student = {'name': 'John', 'age': 25, 'courses': ['Math','CompSci']}\n",
    "print(len(student))"
   ]
  },
  {
   "cell_type": "code",
   "execution_count": 140,
   "metadata": {},
   "outputs": [
    {
     "name": "stdout",
     "output_type": "stream",
     "text": [
      "dict_keys(['name', 'age', 'courses'])\n"
     ]
    }
   ],
   "source": [
    "#To loop key and values in Dict\n",
    "student = {'name': 'John', 'age': 25, 'courses': ['Math','CompSci']}\n",
    "print(student.keys())"
   ]
  },
  {
   "cell_type": "code",
   "execution_count": 141,
   "metadata": {},
   "outputs": [
    {
     "name": "stdout",
     "output_type": "stream",
     "text": [
      "dict_items([('name', 'John'), ('age', 25), ('courses', ['Math', 'CompSci'])])\n"
     ]
    }
   ],
   "source": [
    "#To loop key and values in Dict\n",
    "student = {'name': 'John', 'age': 25, 'courses': ['Math','CompSci']}\n",
    "print(student.items())"
   ]
  },
  {
   "cell_type": "code",
   "execution_count": 142,
   "metadata": {},
   "outputs": [
    {
     "name": "stdout",
     "output_type": "stream",
     "text": [
      "name John\n",
      "age 25\n",
      "courses ['Math', 'CompSci']\n"
     ]
    }
   ],
   "source": [
    "#To loop key and values in Dict\n",
    "student = {'name': 'John', 'age': 25, 'courses': ['Math','CompSci']}\n",
    "for key, value in student.items() :\n",
    "    print(key, value)"
   ]
  },
  {
   "cell_type": "markdown",
   "metadata": {},
   "source": [
    "## Conditionals & Booleans"
   ]
  },
  {
   "cell_type": "code",
   "execution_count": 143,
   "metadata": {},
   "outputs": [
    {
     "name": "stdout",
     "output_type": "stream",
     "text": [
      "Conditional was True\n"
     ]
    }
   ],
   "source": [
    "#Conditional Samples\n",
    "if True:\n",
    "    print('Conditional was True')"
   ]
  },
  {
   "cell_type": "code",
   "execution_count": 144,
   "metadata": {},
   "outputs": [
    {
     "name": "stdout",
     "output_type": "stream",
     "text": [
      "Conditional was True\n"
     ]
    }
   ],
   "source": [
    "#Conditional Samples\n",
    "language = 'Python'\n",
    "if language == 'Python':\n",
    "    print('Conditional was True')"
   ]
  },
  {
   "cell_type": "code",
   "execution_count": 146,
   "metadata": {
    "scrolled": true
   },
   "outputs": [
    {
     "name": "stdout",
     "output_type": "stream",
     "text": [
      "No match\n"
     ]
    }
   ],
   "source": [
    "#Comparison Operators\n",
    "#Equal: 3 == 2\n",
    "#Not Equal: 3 != 2\n",
    "#Greater Than: 3 > 2\n",
    "#Less Than: 3 < 2\n",
    "#Greater than or equal: 3 >= 2\n",
    "#Less or equal: 3 <= 2\n",
    "#Object Identity: is\n",
    "language = 'Python'\n",
    "if language == 'Java':\n",
    "    print('Language is python')\n",
    "else:\n",
    "    print('No match')"
   ]
  },
  {
   "cell_type": "code",
   "execution_count": 151,
   "metadata": {},
   "outputs": [
    {
     "name": "stdout",
     "output_type": "stream",
     "text": [
      "Language is Java\n"
     ]
    }
   ],
   "source": [
    "#To check 3 or more conditions at a time\n",
    "language = 'Java'\n",
    "if language == 'Python':\n",
    "    print('Language is python')\n",
    "elif language == 'Java':\n",
    "    print('Language is Java')\n",
    "elif language == 'JavaScript':\n",
    "    print('Language is JavaScript')\n",
    "else:\n",
    "    print('No match')"
   ]
  },
  {
   "cell_type": "code",
   "execution_count": 155,
   "metadata": {},
   "outputs": [
    {
     "name": "stdout",
     "output_type": "stream",
     "text": [
      "Admin Page\n"
     ]
    }
   ],
   "source": [
    "#Boolean Operations\n",
    "#AND (Both conditions are met)\n",
    "#OR (One of the condition is met)\n",
    "#NOT\n",
    "\n",
    "user = 'Admin'\n",
    "logged_in = False\n",
    "\n",
    "if user == 'Admin' or logged_in:\n",
    "    print('Admin Page')\n",
    "else: \n",
    "    print('Bad Credentials')"
   ]
  },
  {
   "cell_type": "code",
   "execution_count": 161,
   "metadata": {},
   "outputs": [
    {
     "name": "stdout",
     "output_type": "stream",
     "text": [
      "2794935073152\n",
      "2794935073152\n",
      "True\n"
     ]
    }
   ],
   "source": [
    "#Object Identity\n",
    "\n",
    "a = [1,2,3]\n",
    "b = a\n",
    "print(id(a))\n",
    "print(id(b))\n",
    "print (a is b)"
   ]
  },
  {
   "cell_type": "code",
   "execution_count": 162,
   "metadata": {},
   "outputs": [
    {
     "name": "stdout",
     "output_type": "stream",
     "text": [
      "Evaluated to False\n"
     ]
    }
   ],
   "source": [
    "#False Values:\n",
    "#False\n",
    "#None\n",
    "#Zero of any numeric type\n",
    "#Any empty sequence, ex: '',(),[]\n",
    "#Any empty mapping, ex: {}\n",
    "condition = False\n",
    "\n",
    "if condition:\n",
    "    print('Evaluated to True')\n",
    "else:\n",
    "    print('Evaluated to False')"
   ]
  },
  {
   "cell_type": "code",
   "execution_count": 163,
   "metadata": {},
   "outputs": [
    {
     "name": "stdout",
     "output_type": "stream",
     "text": [
      "Evaluated to False\n"
     ]
    }
   ],
   "source": [
    "condition = None\n",
    "\n",
    "if condition:\n",
    "    print('Evaluated to True')\n",
    "else:\n",
    "    print('Evaluated to False')"
   ]
  },
  {
   "cell_type": "code",
   "execution_count": 164,
   "metadata": {},
   "outputs": [
    {
     "name": "stdout",
     "output_type": "stream",
     "text": [
      "Evaluated to False\n"
     ]
    }
   ],
   "source": [
    "condition = 0\n",
    "\n",
    "if condition:\n",
    "    print('Evaluated to True')\n",
    "else:\n",
    "    print('Evaluated to False')"
   ]
  },
  {
   "cell_type": "code",
   "execution_count": 167,
   "metadata": {},
   "outputs": [
    {
     "name": "stdout",
     "output_type": "stream",
     "text": [
      "Evaluated to False\n"
     ]
    }
   ],
   "source": [
    "condition = []\n",
    "\n",
    "if condition:\n",
    "    print('Evaluated to True')\n",
    "else:\n",
    "    print('Evaluated to False')"
   ]
  },
  {
   "cell_type": "code",
   "execution_count": 168,
   "metadata": {},
   "outputs": [
    {
     "name": "stdout",
     "output_type": "stream",
     "text": [
      "Evaluated to False\n"
     ]
    }
   ],
   "source": [
    "condition = {}\n",
    "\n",
    "if condition:\n",
    "    print('Evaluated to True')\n",
    "else:\n",
    "    print('Evaluated to False')"
   ]
  },
  {
   "cell_type": "code",
   "execution_count": 169,
   "metadata": {},
   "outputs": [
    {
     "name": "stdout",
     "output_type": "stream",
     "text": [
      "Evaluated to False\n"
     ]
    }
   ],
   "source": [
    "condition = []\n",
    "\n",
    "if condition:\n",
    "    print('Evaluated to True')\n",
    "else:\n",
    "    print('Evaluated to False')"
   ]
  },
  {
   "cell_type": "markdown",
   "metadata": {},
   "source": [
    "## Loops and Iterations"
   ]
  },
  {
   "cell_type": "code",
   "execution_count": 170,
   "metadata": {},
   "outputs": [
    {
     "name": "stdout",
     "output_type": "stream",
     "text": [
      "1\n",
      "2\n",
      "3\n",
      "4\n",
      "5\n"
     ]
    }
   ],
   "source": [
    "#Loop example\n",
    "nums = [1,2,3,4,5]\n",
    "for num in nums:\n",
    "    print(num)"
   ]
  },
  {
   "cell_type": "code",
   "execution_count": 178,
   "metadata": {},
   "outputs": [
    {
     "name": "stdout",
     "output_type": "stream",
     "text": [
      "1\n",
      "2\n",
      "Found!\n"
     ]
    }
   ],
   "source": [
    "#Break\n",
    "nums = [1,2,3,4,5]\n",
    "for num in nums:\n",
    "    if num == 3:\n",
    "        print('Found!')\n",
    "        break\n",
    "    print(num)"
   ]
  },
  {
   "cell_type": "code",
   "execution_count": 179,
   "metadata": {},
   "outputs": [
    {
     "name": "stdout",
     "output_type": "stream",
     "text": [
      "1\n",
      "2\n",
      "Found!\n",
      "4\n",
      "5\n"
     ]
    }
   ],
   "source": [
    "#Continue\n",
    "nums = [1,2,3,4,5]\n",
    "for num in nums:\n",
    "    if num == 3:\n",
    "        print('Found!')\n",
    "        continue\n",
    "    print(num)"
   ]
  },
  {
   "cell_type": "code",
   "execution_count": 180,
   "metadata": {},
   "outputs": [
    {
     "name": "stdout",
     "output_type": "stream",
     "text": [
      "1 a\n",
      "1 b\n",
      "1 c\n",
      "2 a\n",
      "2 b\n",
      "2 c\n",
      "3 a\n",
      "3 b\n",
      "3 c\n",
      "4 a\n",
      "4 b\n",
      "4 c\n",
      "5 a\n",
      "5 b\n",
      "5 c\n"
     ]
    }
   ],
   "source": [
    "#Loop in Loop\n",
    "nums = [1,2,3,4,5]\n",
    "for num in nums:\n",
    "    for letter in 'abc':\n",
    "        print(num, letter)"
   ]
  },
  {
   "cell_type": "code",
   "execution_count": 185,
   "metadata": {},
   "outputs": [
    {
     "name": "stdout",
     "output_type": "stream",
     "text": [
      "1\n",
      "2\n",
      "3\n",
      "4\n",
      "5\n",
      "6\n",
      "7\n",
      "8\n",
      "9\n",
      "10\n"
     ]
    }
   ],
   "source": [
    "#Alternate to Loop in Loop using RANGE function\n",
    "for i in range(1,11):\n",
    "    print (i)"
   ]
  },
  {
   "cell_type": "code",
   "execution_count": 201,
   "metadata": {},
   "outputs": [
    {
     "name": "stdout",
     "output_type": "stream",
     "text": [
      "0\n",
      "1\n",
      "2\n",
      "3\n",
      "4\n",
      "Found!\n"
     ]
    }
   ],
   "source": [
    "#While loops\n",
    "x = 0\n",
    "\n",
    "while True:\n",
    "    if x == 5:\n",
    "        print('Found!')\n",
    "        break\n",
    "    print(x)\n",
    "    x += 1"
   ]
  },
  {
   "cell_type": "markdown",
   "metadata": {},
   "source": [
    "## Functions"
   ]
  },
  {
   "cell_type": "code",
   "execution_count": 205,
   "metadata": {},
   "outputs": [
    {
     "name": "stdout",
     "output_type": "stream",
     "text": [
      "Hello Function!\n"
     ]
    }
   ],
   "source": [
    "#To create fucntion, use def\n",
    "def hello_func():\n",
    "    print('Hello Function!')\n",
    "hello_func()"
   ]
  },
  {
   "cell_type": "code",
   "execution_count": 207,
   "metadata": {},
   "outputs": [
    {
     "name": "stdout",
     "output_type": "stream",
     "text": [
      "Hello Function.\n"
     ]
    }
   ],
   "source": [
    "#To return results from function\n",
    "def hello_func():\n",
    "    return 'Hello Function.'\n",
    "print(hello_func())"
   ]
  },
  {
   "cell_type": "code",
   "execution_count": 208,
   "metadata": {},
   "outputs": [
    {
     "name": "stdout",
     "output_type": "stream",
     "text": [
      "HELLO FUNCTION.\n"
     ]
    }
   ],
   "source": [
    "def hello_func():\n",
    "    return 'Hello Function.'\n",
    "print(hello_func().upper())"
   ]
  },
  {
   "cell_type": "code",
   "execution_count": 215,
   "metadata": {},
   "outputs": [
    {
     "name": "stdout",
     "output_type": "stream",
     "text": [
      "Hey, Harshit!\n"
     ]
    }
   ],
   "source": [
    "def hello_func(greeting, name = 'You'):\n",
    "    return '{}, {}!'.format(greeting, name)\n",
    "print(hello_func('Hey','Harshit'))"
   ]
  },
  {
   "cell_type": "code",
   "execution_count": 217,
   "metadata": {},
   "outputs": [
    {
     "name": "stdout",
     "output_type": "stream",
     "text": [
      "('Maths', 'Art')\n",
      "{'name': 'John', 'age': 22}\n"
     ]
    }
   ],
   "source": [
    "def student_info(*args, **kwargs):\n",
    "    print(args)#results in Tuple\n",
    "    print(kwargs)#results in Dictionary\n",
    "\n",
    "student_info('Maths','Art', name = 'John', age = 22)"
   ]
  },
  {
   "cell_type": "code",
   "execution_count": 221,
   "metadata": {},
   "outputs": [
    {
     "name": "stdout",
     "output_type": "stream",
     "text": [
      "False\n",
      "28\n"
     ]
    }
   ],
   "source": [
    "#Number of days per mornth, First value is placeholder for indexing purpose\n",
    "month_days = [0, 31, 28, 31, 30, 31, 30, 31, 31, 30, 31, 30, 31]\n",
    "\n",
    "def is_leap(year):\n",
    "    #Return True for leap year, else False\n",
    "    return year % 4 == 0 and (year % 100 != 0 or year % 400 == 0)\n",
    "\n",
    "def days_in_month(year, month):\n",
    "    if not 1 <= month <= 12:\n",
    "        return 'Invalid Match'\n",
    "    if month == 2 and is_leap(year):\n",
    "        return 29\n",
    "    return month_days[month]\n",
    "print(is_leap(2022))\n",
    "print(days_in_month(2017, 2))"
   ]
  },
  {
   "cell_type": "markdown",
   "metadata": {},
   "source": [
    "## Import Modules"
   ]
  },
  {
   "cell_type": "code",
   "execution_count": 227,
   "metadata": {},
   "outputs": [
    {
     "name": "stdout",
     "output_type": "stream",
     "text": [
      "Imported my_module...\n"
     ]
    }
   ],
   "source": [
    "print('Imported my_module...')\n",
    "test = 'Test String'\n",
    "\n",
    "def find_index(to_search, target): #Finds the index of a value in a sequence\n",
    "    for i, value in enumerate(to_search):\n",
    "        if value == target:\n",
    "            return i\n",
    "        return -1\n"
   ]
  },
  {
   "cell_type": "code",
   "execution_count": 234,
   "metadata": {},
   "outputs": [
    {
     "ename": "ImportError",
     "evalue": "cannot import name 'find_index' from 'my_module' (C:\\Users\\HP\\my_module.py)",
     "output_type": "error",
     "traceback": [
      "\u001b[1;31m---------------------------------------------------------------------------\u001b[0m",
      "\u001b[1;31mImportError\u001b[0m                               Traceback (most recent call last)",
      "\u001b[1;32m<ipython-input-234-4655cac95579>\u001b[0m in \u001b[0;36m<module>\u001b[1;34m\u001b[0m\n\u001b[1;32m----> 1\u001b[1;33m \u001b[1;32mfrom\u001b[0m \u001b[0mmy_module\u001b[0m \u001b[1;32mimport\u001b[0m \u001b[0mfind_index\u001b[0m\u001b[1;33m\u001b[0m\u001b[1;33m\u001b[0m\u001b[0m\n\u001b[0m\u001b[0;32m      2\u001b[0m \u001b[0mcourses\u001b[0m \u001b[1;33m=\u001b[0m \u001b[1;33m[\u001b[0m\u001b[1;34m'History'\u001b[0m\u001b[1;33m,\u001b[0m\u001b[1;34m'Math'\u001b[0m\u001b[1;33m,\u001b[0m\u001b[1;34m'Physics'\u001b[0m\u001b[1;33m,\u001b[0m\u001b[1;34m'CompSci'\u001b[0m\u001b[1;33m]\u001b[0m\u001b[1;33m\u001b[0m\u001b[1;33m\u001b[0m\u001b[0m\n\u001b[0;32m      3\u001b[0m \u001b[0mindex\u001b[0m \u001b[1;33m=\u001b[0m \u001b[0mfind_index\u001b[0m\u001b[1;33m(\u001b[0m\u001b[0mcourses\u001b[0m\u001b[1;33m,\u001b[0m \u001b[1;34m'Math'\u001b[0m\u001b[1;33m)\u001b[0m\u001b[1;33m\u001b[0m\u001b[1;33m\u001b[0m\u001b[0m\n\u001b[0;32m      4\u001b[0m \u001b[0mprint\u001b[0m\u001b[1;33m(\u001b[0m\u001b[0mindex\u001b[0m\u001b[1;33m)\u001b[0m\u001b[1;33m\u001b[0m\u001b[1;33m\u001b[0m\u001b[0m\n",
      "\u001b[1;31mImportError\u001b[0m: cannot import name 'find_index' from 'my_module' (C:\\Users\\HP\\my_module.py)"
     ]
    }
   ],
   "source": [
    "from my_module import find_index\n",
    "courses = ['History','Math','Physics','CompSci']\n",
    "index = find_index(courses, 'Math')\n",
    "print(index)"
   ]
  },
  {
   "cell_type": "code",
   "execution_count": 256,
   "metadata": {},
   "outputs": [
    {
     "name": "stdout",
     "output_type": "stream",
     "text": [
      "History\n"
     ]
    }
   ],
   "source": [
    "#Standard Library\n",
    "import random\n",
    "courses = ['History','Math','Physics','CompSci']\n",
    "\n",
    "random_course = random.choice(courses)\n",
    "\n",
    "print(random_course)"
   ]
  },
  {
   "cell_type": "code",
   "execution_count": 262,
   "metadata": {},
   "outputs": [
    {
     "name": "stdout",
     "output_type": "stream",
     "text": [
      "1.0\n"
     ]
    }
   ],
   "source": [
    "import math\n",
    "\n",
    "rads = math.radians(90)\n",
    "print(math.sin(rads))"
   ]
  },
  {
   "cell_type": "code",
   "execution_count": 264,
   "metadata": {},
   "outputs": [
    {
     "name": "stdout",
     "output_type": "stream",
     "text": [
      "2021-05-18\n",
      "True\n"
     ]
    }
   ],
   "source": [
    "import datetime\n",
    "import calendar\n",
    "\n",
    "today = datetime.date.today()\n",
    "print(today)\n",
    "\n",
    "print(calendar.isleap(2020))"
   ]
  },
  {
   "cell_type": "code",
   "execution_count": 265,
   "metadata": {},
   "outputs": [
    {
     "name": "stdout",
     "output_type": "stream",
     "text": [
      "C:\\Users\\HP\n"
     ]
    }
   ],
   "source": [
    "import os\n",
    "print(os.getcwd())"
   ]
  },
  {
   "cell_type": "code",
   "execution_count": 266,
   "metadata": {},
   "outputs": [
    {
     "name": "stdout",
     "output_type": "stream",
     "text": [
      "C:\\Users\\HP\\anaconda3\\lib\\os.py\n"
     ]
    }
   ],
   "source": [
    "import os\n",
    "print(os.__file__)"
   ]
  },
  {
   "cell_type": "code",
   "execution_count": 267,
   "metadata": {},
   "outputs": [],
   "source": [
    "import antigravity"
   ]
  },
  {
   "cell_type": "markdown",
   "metadata": {},
   "source": [
    "## Intro to Numpy"
   ]
  },
  {
   "cell_type": "code",
   "execution_count": 268,
   "metadata": {},
   "outputs": [],
   "source": [
    "#To import the Numpy\n",
    "import numpy as np"
   ]
  },
  {
   "cell_type": "code",
   "execution_count": 275,
   "metadata": {},
   "outputs": [
    {
     "name": "stdout",
     "output_type": "stream",
     "text": [
      "[ 1  3  5  7  9 11]\n"
     ]
    }
   ],
   "source": [
    "a = np.array([1, 3, 5, 7, 9, 11])\n",
    "print(a)"
   ]
  },
  {
   "cell_type": "code",
   "execution_count": 276,
   "metadata": {},
   "outputs": [
    {
     "name": "stdout",
     "output_type": "stream",
     "text": [
      "[ 1  3  5  7  9 11]\n"
     ]
    }
   ],
   "source": [
    "#Define (Start, Stop+1, Step) using ARANGE\n",
    "a = np.arange(1, 12, 2)\n",
    "print(a)"
   ]
  },
  {
   "cell_type": "code",
   "execution_count": 284,
   "metadata": {},
   "outputs": [
    {
     "name": "stdout",
     "output_type": "stream",
     "text": [
      "[ 5.   7.5 10.  12.5 15. ]\n"
     ]
    }
   ],
   "source": [
    "#(Start, Stop, #of items) creates array of n equally spaced values\n",
    "a = np.linspace(5, 15, 5)\n",
    "print(a)"
   ]
  },
  {
   "cell_type": "code",
   "execution_count": 286,
   "metadata": {},
   "outputs": [
    {
     "name": "stdout",
     "output_type": "stream",
     "text": [
      "[[0. 0.]\n",
      " [0. 0.]\n",
      " [0. 0.]\n",
      " [0. 0.]]\n"
     ]
    }
   ],
   "source": [
    "#Zero array defined by (Rows, Columns)\n",
    "a = np.zeros((4,2))\n",
    "print(a)"
   ]
  },
  {
   "cell_type": "code",
   "execution_count": 287,
   "metadata": {},
   "outputs": [
    {
     "name": "stdout",
     "output_type": "stream",
     "text": [
      "[[1 1 1]\n",
      " [1 1 1]\n",
      " [1 1 1]]\n"
     ]
    }
   ],
   "source": [
    "#One array defined by (Rows, Columns)\n",
    "a = np.ones((3,3), dtype=np.int16)\n",
    "print(a)"
   ]
  },
  {
   "cell_type": "code",
   "execution_count": 291,
   "metadata": {},
   "outputs": [
    {
     "name": "stdout",
     "output_type": "stream",
     "text": [
      "[10 10 10]\n"
     ]
    }
   ],
   "source": [
    "#Builds array of ((R,C), desired value)\n",
    "a = np.full((3,), 10)\n",
    "print(a)"
   ]
  },
  {
   "cell_type": "code",
   "execution_count": 307,
   "metadata": {},
   "outputs": [
    {
     "name": "stdout",
     "output_type": "stream",
     "text": [
      "[25 30 35 40]\n"
     ]
    }
   ],
   "source": [
    "#Convert str to integer value and builds array\n",
    "a = np.fromstring('25 30 35 40', dtype=np.int, sep=' ')\n",
    "print(a)"
   ]
  },
  {
   "cell_type": "code",
   "execution_count": 308,
   "metadata": {},
   "outputs": [
    {
     "name": "stdout",
     "output_type": "stream",
     "text": [
      "[[ 1  3  5]\n",
      " [ 7  9 11]]\n"
     ]
    }
   ],
   "source": [
    "#2-D list inside a list\n",
    "a = np.array([[1,3,5],[7,9,11]])\n",
    "print(a)"
   ]
  },
  {
   "cell_type": "code",
   "execution_count": null,
   "metadata": {},
   "outputs": [],
   "source": [
    "# _like gives new array in the same shape as the argument a\n",
    "b = np.zeros_like(a)\n",
    "print(b)"
   ]
  },
  {
   "cell_type": "markdown",
   "metadata": {},
   "source": [
    "## Numpy Array Attributes"
   ]
  },
  {
   "cell_type": "code",
   "execution_count": 309,
   "metadata": {},
   "outputs": [
    {
     "name": "stdout",
     "output_type": "stream",
     "text": [
      "6\n"
     ]
    }
   ],
   "source": [
    "#To get number of items in array\n",
    "print (a.size)"
   ]
  },
  {
   "cell_type": "code",
   "execution_count": 313,
   "metadata": {},
   "outputs": [
    {
     "name": "stdout",
     "output_type": "stream",
     "text": [
      "(2, 3)\n",
      "2\n"
     ]
    }
   ],
   "source": [
    "#To get dimension of array\n",
    "print(a.shape)\n",
    "print(a.ndim)"
   ]
  },
  {
   "cell_type": "code",
   "execution_count": 312,
   "metadata": {},
   "outputs": [
    {
     "name": "stdout",
     "output_type": "stream",
     "text": [
      "4\n"
     ]
    }
   ],
   "source": [
    "#To get itemsize(bytes of memory for each item)\n",
    "print(a.itemsize)"
   ]
  },
  {
   "cell_type": "code",
   "execution_count": 314,
   "metadata": {},
   "outputs": [
    {
     "name": "stdout",
     "output_type": "stream",
     "text": [
      "int32\n"
     ]
    }
   ],
   "source": [
    "#To get the data type\n",
    "print(a.dtype)"
   ]
  },
  {
   "cell_type": "code",
   "execution_count": 315,
   "metadata": {},
   "outputs": [
    {
     "name": "stdout",
     "output_type": "stream",
     "text": [
      "24\n"
     ]
    }
   ],
   "source": [
    "#To get the whole array memory\n",
    "print(a.nbytes) # same as a.size*a.itemsize"
   ]
  },
  {
   "cell_type": "markdown",
   "metadata": {},
   "source": [
    "## Indexing and Slicing"
   ]
  },
  {
   "cell_type": "code",
   "execution_count": 316,
   "metadata": {},
   "outputs": [
    {
     "name": "stdout",
     "output_type": "stream",
     "text": [
      "[[ 1  3  5]\n",
      " [ 7  9 11]]\n",
      "[ 7  9 11]\n",
      "5\n",
      "[3]\n",
      "[[1 3 5]]\n",
      "[[ 7  9 11]]\n",
      "[[3]\n",
      " [9]]\n"
     ]
    }
   ],
   "source": [
    "print(a)\n",
    "print(a[1])\n",
    "print(a[0][2])\n",
    "print(b[2:4])\n",
    "\n",
    "print(a[:1])\n",
    "print(a[1:3:2])\n",
    "print(a[:, 1:2])  # all elements on dimension 0, only element 1 on dimension 1"
   ]
  },
  {
   "cell_type": "code",
   "execution_count": null,
   "metadata": {},
   "outputs": [],
   "source": []
  },
  {
   "cell_type": "code",
   "execution_count": null,
   "metadata": {},
   "outputs": [],
   "source": []
  },
  {
   "cell_type": "code",
   "execution_count": null,
   "metadata": {},
   "outputs": [],
   "source": []
  },
  {
   "cell_type": "code",
   "execution_count": null,
   "metadata": {},
   "outputs": [],
   "source": []
  },
  {
   "cell_type": "code",
   "execution_count": null,
   "metadata": {},
   "outputs": [],
   "source": []
  },
  {
   "cell_type": "code",
   "execution_count": null,
   "metadata": {},
   "outputs": [],
   "source": []
  },
  {
   "cell_type": "code",
   "execution_count": null,
   "metadata": {},
   "outputs": [],
   "source": []
  },
  {
   "cell_type": "code",
   "execution_count": null,
   "metadata": {},
   "outputs": [],
   "source": []
  },
  {
   "cell_type": "code",
   "execution_count": null,
   "metadata": {},
   "outputs": [],
   "source": []
  },
  {
   "cell_type": "code",
   "execution_count": null,
   "metadata": {},
   "outputs": [],
   "source": []
  },
  {
   "cell_type": "code",
   "execution_count": null,
   "metadata": {},
   "outputs": [],
   "source": []
  },
  {
   "cell_type": "code",
   "execution_count": null,
   "metadata": {},
   "outputs": [],
   "source": []
  },
  {
   "cell_type": "code",
   "execution_count": null,
   "metadata": {},
   "outputs": [],
   "source": []
  },
  {
   "cell_type": "code",
   "execution_count": null,
   "metadata": {},
   "outputs": [],
   "source": []
  },
  {
   "cell_type": "code",
   "execution_count": null,
   "metadata": {},
   "outputs": [],
   "source": []
  },
  {
   "cell_type": "code",
   "execution_count": null,
   "metadata": {},
   "outputs": [],
   "source": []
  },
  {
   "cell_type": "code",
   "execution_count": null,
   "metadata": {},
   "outputs": [],
   "source": []
  },
  {
   "cell_type": "code",
   "execution_count": null,
   "metadata": {},
   "outputs": [],
   "source": []
  }
 ],
 "metadata": {
  "kernelspec": {
   "display_name": "Python 3",
   "language": "python",
   "name": "python3"
  },
  "language_info": {
   "codemirror_mode": {
    "name": "ipython",
    "version": 3
   },
   "file_extension": ".py",
   "mimetype": "text/x-python",
   "name": "python",
   "nbconvert_exporter": "python",
   "pygments_lexer": "ipython3",
   "version": "3.8.5"
  }
 },
 "nbformat": 4,
 "nbformat_minor": 4
}
